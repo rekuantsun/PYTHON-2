{
  "nbformat": 4,
  "nbformat_minor": 0,
  "metadata": {
    "colab": {
      "name": "P2-18-11.ipynb",
      "provenance": [],
      "authorship_tag": "ABX9TyNTQKcl+/5lNmKsn0cEJkwQ",
      "include_colab_link": true
    },
    "kernelspec": {
      "name": "python3",
      "display_name": "Python 3"
    },
    "language_info": {
      "name": "python"
    }
  },
  "cells": [
    {
      "cell_type": "markdown",
      "metadata": {
        "id": "view-in-github",
        "colab_type": "text"
      },
      "source": [
        "<a href=\"https://colab.research.google.com/github/rekuantsun/PYTHON2-COLAB/blob/main/P2_18_11.ipynb\" target=\"_parent\"><img src=\"https://colab.research.google.com/assets/colab-badge.svg\" alt=\"Open In Colab\"/></a>"
      ]
    },
    {
      "cell_type": "code",
      "metadata": {
        "colab": {
          "base_uri": "https://localhost:8080/"
        },
        "id": "Ba1TvFQMpmjl",
        "outputId": "92a63fda-6fe3-47a7-8b1a-aef08917a310"
      },
      "source": [
        "#xếp loại\n",
        "dtb = float(input('diem trung binh: '))\n",
        "if dtb >= 9:\n",
        "  print('xuat sac')\n",
        "elif dtb >= 8:\n",
        "  print('gioi')\n",
        "elif dtb >= 7:\n",
        "  print('kha')\n",
        "elif dtb >= 5:\n",
        "  print('trung binh')\n",
        "elif dtb >= 0:\n",
        "  print('yeu')"
      ],
      "execution_count": 3,
      "outputs": [
        {
          "output_type": "stream",
          "name": "stdout",
          "text": [
            "diem trung binh: 10\n",
            "xuat sac\n"
          ]
        }
      ]
    }
  ]
}