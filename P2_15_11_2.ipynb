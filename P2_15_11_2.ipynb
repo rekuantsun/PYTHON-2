{
  "nbformat": 4,
  "nbformat_minor": 0,
  "metadata": {
    "colab": {
      "name": "P2-15-11-2.ipynb",
      "provenance": [],
      "authorship_tag": "ABX9TyMmrlLGSPOekldeLTpCMr7X",
      "include_colab_link": true
    },
    "kernelspec": {
      "name": "python3",
      "display_name": "Python 3"
    },
    "language_info": {
      "name": "python"
    }
  },
  "cells": [
    {
      "cell_type": "markdown",
      "metadata": {
        "id": "view-in-github",
        "colab_type": "text"
      },
      "source": [
        "<a href=\"https://colab.research.google.com/github/rekuantsun/PYTHON2-COLAB/blob/main/P2_15_11_2.ipynb\" target=\"_parent\"><img src=\"https://colab.research.google.com/assets/colab-badge.svg\" alt=\"Open In Colab\"/></a>"
      ]
    },
    {
      "cell_type": "code",
      "metadata": {
        "id": "4G4By9wsbY96"
      },
      "source": [
        "#Khởi tạo tuple\n",
        "tup1=('le','quang','trung',11,2)\n",
        "tup2=(1,2,3,4,5)\n",
        "tup3=('a','b','c','d')"
      ],
      "execution_count": null,
      "outputs": []
    },
    {
      "cell_type": "code",
      "metadata": {
        "colab": {
          "base_uri": "https://localhost:8080/"
        },
        "id": "XGODSbiIdHD9",
        "outputId": "b33c12b0-deed-4246-daae-f14f2fac4a2f"
      },
      "source": [
        "#truy cập các phần tử\n",
        "tup1=('fb','zl','ms',11,22)\n",
        "print(tup1[1:4])\n",
        "print(tup1[2])\n",
        "print(tup1[:-1])"
      ],
      "execution_count": 2,
      "outputs": [
        {
          "output_type": "stream",
          "name": "stdout",
          "text": [
            "('zl', 'ms', 11)\n",
            "ms\n",
            "('fb', 'zl', 'ms', 11)\n"
          ]
        }
      ]
    },
    {
      "cell_type": "code",
      "metadata": {
        "colab": {
          "base_uri": "https://localhost:8080/"
        },
        "id": "1wR9Fz8GdgJs",
        "outputId": "7c3ff9fa-b46e-4c24-b16a-79183d29fd30"
      },
      "source": [
        "#thay đổi giá trị của tuple\n",
        "tup1 = (29,1.1,202)\n",
        "tup2 = ('abc', 'xyz')\n",
        "tup3 = tup1 + tup2\n",
        "print(tup3)"
      ],
      "execution_count": 4,
      "outputs": [
        {
          "output_type": "stream",
          "name": "stdout",
          "text": [
            "(29, 1.1, 202, 'abc', 'xyz')\n"
          ]
        }
      ]
    },
    {
      "cell_type": "code",
      "metadata": {
        "colab": {
          "base_uri": "https://localhost:8080/"
        },
        "id": "rGaxSukueBW2",
        "outputId": "75af6b70-85b4-4faf-da0f-3af6e5734339"
      },
      "source": [
        "#Xóa phần tử của Tuples\n",
        "tup1=('hello','hi','xinchao',2,22)\n",
        "print(tup1)\n",
        "del tup1"
      ],
      "execution_count": 55,
      "outputs": [
        {
          "output_type": "stream",
          "name": "stdout",
          "text": [
            "('hello', 'hi', 'xinchao', 2, 22)\n"
          ]
        }
      ]
    },
    {
      "cell_type": "code",
      "metadata": {
        "colab": {
          "base_uri": "https://localhost:8080/"
        },
        "id": "l2VFIRXGew3I",
        "outputId": "64fbe44c-eaaa-4684-e7e2-548c20d396f4"
      },
      "source": [
        "#Các thao tác cơ bản\n",
        "tup1=(1,2,3,4,5,6)\n",
        "print(len(tup1))\n",
        "tup2=(22,33,44)\n",
        "print(tup1+tup2)\n",
        "print(tup2*2)\n",
        "print(2 in tup1)\n",
        "for i in tup2:\n",
        "  print(i,end=' ')\n"
      ],
      "execution_count": 11,
      "outputs": [
        {
          "output_type": "stream",
          "name": "stdout",
          "text": [
            "6\n",
            "(1, 2, 3, 4, 5, 6, 22, 33, 44)\n",
            "(22, 33, 44, 22, 33, 44)\n",
            "True\n",
            "22 33 44 "
          ]
        }
      ]
    },
    {
      "cell_type": "code",
      "metadata": {
        "colab": {
          "base_uri": "https://localhost:8080/"
        },
        "id": "uE09kjyDfZ52",
        "outputId": "7a443e8a-61e0-4233-b810-fc7e0080f8e9"
      },
      "source": [
        "#Indexing & Slicing\n",
        "T = ('Red', 'Yellow', 'Green')\n",
        "print(T[1])\n",
        "print(T[-1])\n",
        "print(T[:-1])"
      ],
      "execution_count": 15,
      "outputs": [
        {
          "output_type": "stream",
          "name": "stdout",
          "text": [
            "Yellow\n",
            "Green\n",
            "('Red', 'Yellow')\n"
          ]
        }
      ]
    },
    {
      "cell_type": "code",
      "metadata": {
        "colab": {
          "base_uri": "https://localhost:8080/"
        },
        "id": "uSQyPDlNgKC7",
        "outputId": "d4b0a1b6-3fb6-47bb-bdb4-8761df57295b"
      },
      "source": [
        "#Các hàm dựng sẵn của Tuples\n",
        "t1=(1,2,3,4,5)\n",
        "t2=(22,33,55)\n",
        "print(cmp(t1,t2))\n",
        "print(len(t1))\n",
        "print(max(t1))\n",
        "print(min(t1))\n",
        "t3=[29,11,2002]\n",
        "print(tuple(t3))"
      ],
      "execution_count": 17,
      "outputs": [
        {
          "output_type": "stream",
          "name": "stdout",
          "text": [
            "5\n",
            "5\n",
            "1\n",
            "(29, 11, 2002)\n"
          ]
        }
      ]
    },
    {
      "cell_type": "code",
      "metadata": {
        "colab": {
          "base_uri": "https://localhost:8080/"
        },
        "id": "2iOzPhiug2hu",
        "outputId": "0dc412c0-1c08-44dc-f8a5-f641cc3ad29f"
      },
      "source": [
        "#Khởi tạo và truy cập Dictionary\n",
        "dict1 = {'Name': 'Trung', 'Age': 18, 'Class': 'KHDL&TTNT'}\n",
        "print(\"dict['Name']: \", dict1['Name'])\n",
        "print(\"dict['Age']: \", dict1['Age'])\n",
        "print(\"dict['Class']: \", dict1['Class'])"
      ],
      "execution_count": 22,
      "outputs": [
        {
          "output_type": "stream",
          "name": "stdout",
          "text": [
            "dict['Name']:  Trung\n",
            "dict['Age']:  18\n",
            "dict['Class']:  KHDL&TTNT\n"
          ]
        }
      ]
    },
    {
      "cell_type": "code",
      "metadata": {
        "colab": {
          "base_uri": "https://localhost:8080/"
        },
        "id": "vw5p_2JbhREz",
        "outputId": "7f576b75-2ce6-4bf3-d93f-7628fe62cdba"
      },
      "source": [
        "#Thay đổi giá trị phần tử của Dictionary\n",
        "dict1 = {'Name': 'Zara', 'Age': 7, 'Class': 'First'}\n",
        "dict1['Name'] = 'Trung'\n",
        "dict1['Age'] = 18\n",
        "dict1['School'] = 'Đại học Huế'\n",
        "print(\"dict['Name']: \", dict1['Name'])\n",
        "print(\"dict['Age']: \", dict1['Age'])\n",
        "print(\"dict['School']: \", dict1['School'])"
      ],
      "execution_count": 21,
      "outputs": [
        {
          "output_type": "stream",
          "name": "stdout",
          "text": [
            "dict['Name']:  Trung\n",
            "dict['Age']:  18\n",
            "dict['School']:  Đại học Huế\n"
          ]
        }
      ]
    },
    {
      "cell_type": "code",
      "metadata": {
        "colab": {
          "base_uri": "https://localhost:8080/"
        },
        "id": "W-uQLsLShpi_",
        "outputId": "550cc120-cf6b-4eb1-fda6-c210c28ef4a8"
      },
      "source": [
        "#Xóa phần tử của Dictionary\n",
        "dict1 = {'Name': 'Zara', 'Age': 7, 'Class': 'First'}\n",
        "del dict1['Name']\n",
        "print(dict1)\n",
        "dict1.clear()\n",
        "print(dict1)\n",
        "del dict1 "
      ],
      "execution_count": 24,
      "outputs": [
        {
          "output_type": "stream",
          "name": "stdout",
          "text": [
            "{'Age': 7, 'Class': 'First'}\n",
            "{}\n"
          ]
        }
      ]
    },
    {
      "cell_type": "code",
      "metadata": {
        "colab": {
          "base_uri": "https://localhost:8080/"
        },
        "id": "hTNJyTTRiL14",
        "outputId": "53f748cb-aeae-4818-e443-d241d3531c26"
      },
      "source": [
        "#Các hàm dựng sẵn của Dictionary\n",
        "d1={'name':'trung'}\n",
        "d2={'class':'khdl&ttnt'}\n",
        "print(cmp(d1, d2))\n",
        "print(len(d1))\n",
        "print(str(d1))"
      ],
      "execution_count": 26,
      "outputs": [
        {
          "output_type": "stream",
          "name": "stdout",
          "text": [
            "1\n",
            "{'name': 'trung'}\n"
          ]
        }
      ]
    },
    {
      "cell_type": "code",
      "metadata": {
        "colab": {
          "base_uri": "https://localhost:8080/",
          "height": 282
        },
        "id": "P6HuafOZimkM",
        "outputId": "d77a314a-54a9-407d-ff85-b402cb19db7c"
      },
      "source": [
        "#Các phương thức dựng sẵn của Dictionary\n",
        "d1={'Name': 'Trung', 'Age': 18, 'Class': 'KHDL&TTNT'}\n",
        "print(d1.clear())\n",
        "d2={'subject':'python2','teacher':'mr.cuong'}\n",
        "d3 = d2.copy()\n",
        "print(d3)\n",
        "print(d2.get('teacher'))\n",
        "print(d2.has_key('subject'))\n",
        "print(d2.items())\n",
        "print(d2.keys())\n",
        "d3={'school':'Đại học Huế','class':'KHDL&TTNT'}\n",
        "d2.update(d3)\n",
        "print(d2)\n",
        "print(d2.values())"
      ],
      "execution_count": 60,
      "outputs": [
        {
          "output_type": "stream",
          "name": "stdout",
          "text": [
            "None\n",
            "{'subject': 'python2', 'teacher': 'mr.cuong'}\n",
            "mr.cuong\n"
          ]
        },
        {
          "output_type": "error",
          "ename": "AttributeError",
          "evalue": "ignored",
          "traceback": [
            "\u001b[0;31m---------------------------------------------------------------------------\u001b[0m",
            "\u001b[0;31mAttributeError\u001b[0m                            Traceback (most recent call last)",
            "\u001b[0;32m<ipython-input-60-faa515f2cf91>\u001b[0m in \u001b[0;36m<module>\u001b[0;34m()\u001b[0m\n\u001b[1;32m      6\u001b[0m \u001b[0mprint\u001b[0m\u001b[0;34m(\u001b[0m\u001b[0md3\u001b[0m\u001b[0;34m)\u001b[0m\u001b[0;34m\u001b[0m\u001b[0;34m\u001b[0m\u001b[0m\n\u001b[1;32m      7\u001b[0m \u001b[0mprint\u001b[0m\u001b[0;34m(\u001b[0m\u001b[0md2\u001b[0m\u001b[0;34m.\u001b[0m\u001b[0mget\u001b[0m\u001b[0;34m(\u001b[0m\u001b[0;34m'teacher'\u001b[0m\u001b[0;34m)\u001b[0m\u001b[0;34m)\u001b[0m\u001b[0;34m\u001b[0m\u001b[0;34m\u001b[0m\u001b[0m\n\u001b[0;32m----> 8\u001b[0;31m \u001b[0mprint\u001b[0m\u001b[0;34m(\u001b[0m\u001b[0md2\u001b[0m\u001b[0;34m.\u001b[0m\u001b[0mhas_key\u001b[0m\u001b[0;34m(\u001b[0m\u001b[0;34m'subject'\u001b[0m\u001b[0;34m)\u001b[0m\u001b[0;34m)\u001b[0m\u001b[0;34m\u001b[0m\u001b[0;34m\u001b[0m\u001b[0m\n\u001b[0m\u001b[1;32m      9\u001b[0m \u001b[0mprint\u001b[0m\u001b[0;34m(\u001b[0m\u001b[0md2\u001b[0m\u001b[0;34m.\u001b[0m\u001b[0mitems\u001b[0m\u001b[0;34m(\u001b[0m\u001b[0;34m)\u001b[0m\u001b[0;34m)\u001b[0m\u001b[0;34m\u001b[0m\u001b[0;34m\u001b[0m\u001b[0m\n\u001b[1;32m     10\u001b[0m \u001b[0mprint\u001b[0m\u001b[0;34m(\u001b[0m\u001b[0md2\u001b[0m\u001b[0;34m.\u001b[0m\u001b[0mkeys\u001b[0m\u001b[0;34m(\u001b[0m\u001b[0;34m)\u001b[0m\u001b[0;34m)\u001b[0m\u001b[0;34m\u001b[0m\u001b[0;34m\u001b[0m\u001b[0m\n",
            "\u001b[0;31mAttributeError\u001b[0m: 'dict' object has no attribute 'has_key'"
          ]
        }
      ]
    },
    {
      "cell_type": "code",
      "metadata": {
        "colab": {
          "base_uri": "https://localhost:8080/"
        },
        "id": "M_wNdnLuklug",
        "outputId": "2442898a-af73-4ec0-cfe6-5eb7da7e3b74"
      },
      "source": [
        "#Khởi tạo\n",
        "Set = set([\"a\", \"b\", \"c\"])\n",
        "print(\"Set: \")\n",
        "print(Set)\n",
        "Set.add(\"d\")\n",
        "print(\"\\nSet after adding: \")\n",
        "print(Set)"
      ],
      "execution_count": 36,
      "outputs": [
        {
          "output_type": "stream",
          "name": "stdout",
          "text": [
            "Set: \n",
            "{'c', 'b', 'a'}\n",
            "\n",
            "Set after adding: \n",
            "{'c', 'b', 'a', 'd'}\n"
          ]
        }
      ]
    },
    {
      "cell_type": "code",
      "metadata": {
        "colab": {
          "base_uri": "https://localhost:8080/"
        },
        "id": "UupqDVmWkwMk",
        "outputId": "ddbb425b-00e3-48e1-9b24-bb4e070e98ff"
      },
      "source": [
        "#Thêm phần tử\n",
        "people = {\"Jay\", \"Idrish\", \"Archi\"}\n",
        "print(\"People: \")\n",
        "print(people)\n",
        "people.add(\"Daxit\")\n",
        "print('after change:',people)"
      ],
      "execution_count": 63,
      "outputs": [
        {
          "output_type": "stream",
          "name": "stdout",
          "text": [
            "People: \n",
            "{'Jay', 'Archi', 'Idrish'}\n",
            "after change: {'Daxit', 'Jay', 'Archi', 'Idrish'}\n"
          ]
        }
      ]
    },
    {
      "cell_type": "code",
      "metadata": {
        "colab": {
          "base_uri": "https://localhost:8080/"
        },
        "id": "kAeTjJZWlMS9",
        "outputId": "a371ec0e-7e1a-498e-b30d-9b0c41312073"
      },
      "source": [
        "#Bớt phần tử\n",
        "Days=set([\"Mon\",\"Tue\",\"Wed\",\"Thu\",\"Fri\",\"Sat\"])\n",
        "Days.discard(\"Sun\")\n",
        "print(Days)"
      ],
      "execution_count": 40,
      "outputs": [
        {
          "output_type": "stream",
          "name": "stdout",
          "text": [
            "{'Fri', 'Wed', 'Mon', 'Sat', 'Thu', 'Tue'}\n"
          ]
        }
      ]
    },
    {
      "cell_type": "code",
      "metadata": {
        "colab": {
          "base_uri": "https://localhost:8080/"
        },
        "id": "dSvnvws0lPsD",
        "outputId": "f515df1d-386b-4e9b-b3ac-b40725f585c7"
      },
      "source": [
        "#Xóa toàn bộ\n",
        "set1 = {1,2,3,4,5,6}\n",
        "print(\"Initial set\")\n",
        "print(set1)\n",
        "\n",
        "set1.clear()\n",
        "print(\"\\nSet after using clear() function\")\n",
        "print(set1)"
      ],
      "execution_count": 41,
      "outputs": [
        {
          "output_type": "stream",
          "name": "stdout",
          "text": [
            "Initial set\n",
            "{1, 2, 3, 4, 5, 6}\n",
            "\n",
            "Set after using clear() function\n",
            "set()\n"
          ]
        }
      ]
    },
    {
      "cell_type": "code",
      "metadata": {
        "colab": {
          "base_uri": "https://localhost:8080/"
        },
        "id": "RO8XvM_lleTu",
        "outputId": "6f68a268-1222-4c09-fff0-fd4be497864b"
      },
      "source": [
        "#Phép hợp\n",
        "people = {\"Jay\", \"Idrish\", \"Archil\"}\n",
        "vampires = {\"Karan\", \"Arjun\"}\n",
        "dracula = {\"Deepanshu\", \"Raju\"}\n",
        "\n",
        "population = people.union(vampires)\n",
        "print(\"Union using union() function\")\n",
        "print(population)\n",
        "\n",
        "population = people|dracula\n",
        "print(\"\\nUnion using '|' operator\")\n",
        "print(population)"
      ],
      "execution_count": 42,
      "outputs": [
        {
          "output_type": "stream",
          "name": "stdout",
          "text": [
            "Union using union() function\n",
            "{'Idrish', 'Karan', 'Jay', 'Arjun', 'Archil'}\n",
            "\n",
            "Union using '|' operator\n",
            "{'Deepanshu', 'Idrish', 'Jay', 'Raju', 'Archil'}\n"
          ]
        }
      ]
    },
    {
      "cell_type": "code",
      "metadata": {
        "colab": {
          "base_uri": "https://localhost:8080/"
        },
        "id": "ypI4NFOOl9FK",
        "outputId": "0814d2f2-da16-4c65-b351-86ccf5800543"
      },
      "source": [
        "#Phép giao\n",
        "set1 = set()\n",
        "for i in range(5):\n",
        "  set1.add(i)\n",
        "set2 = {3, 4, 5, 6, 7, 8}\n",
        "\n",
        "set3 = set1.intersection(set2)\n",
        "print(\"Intersection using intersection() function\")\n",
        "print(set3)\n",
        "\n",
        "set3 = set1 & set2\n",
        "print(\"\\nIntersection using '&' operator\")\n",
        "print(set3)"
      ],
      "execution_count": 44,
      "outputs": [
        {
          "output_type": "stream",
          "name": "stdout",
          "text": [
            "Intersection using intersection() function\n",
            "{3, 4}\n",
            "\n",
            "Intersection using '&' operator\n",
            "{3, 4}\n"
          ]
        }
      ]
    },
    {
      "cell_type": "code",
      "metadata": {
        "colab": {
          "base_uri": "https://localhost:8080/"
        },
        "id": "coY76zJ-mMOD",
        "outputId": "819e157d-fa44-4481-d6ae-1aa07038d043"
      },
      "source": [
        "#Phép hiệu\n",
        "set1 = set()\n",
        "for i in range(5):\n",
        "  set1.add(i)\n",
        "set2 = {3, 4, 5, 6, 7, 8}\n",
        "\n",
        "set3 = set1.difference(set2)\n",
        "print(\" Difference of two sets using difference() function\")\n",
        "print(set3)\n",
        "\n",
        "set3 = set1 - set2\n",
        "print(\"\\nDifference of two sets using '-' operator\")\n",
        "print(set3)"
      ],
      "execution_count": 45,
      "outputs": [
        {
          "output_type": "stream",
          "name": "stdout",
          "text": [
            " Difference of two sets using difference() function\n",
            "{0, 1, 2}\n",
            "\n",
            "Difference of two sets using '-' operator\n",
            "{0, 1, 2}\n"
          ]
        }
      ]
    },
    {
      "cell_type": "code",
      "metadata": {
        "colab": {
          "base_uri": "https://localhost:8080/"
        },
        "id": "33mvF-sXmZSU",
        "outputId": "db81a926-64ce-4449-bdb6-0e4fd96b4574"
      },
      "source": [
        "#Kiểm tra tập con - tập cha\n",
        "DaysA = set([\"Mon\",\"Tue\",\"Wed\"])\n",
        "DaysB = set([\"Mon\",\"Tue\",\"Wed\",\"Thu\",\"Fri\",\"Sat\",\"Sun\"])\n",
        "SubsetRes = DaysA <= DaysB\n",
        "SupersetRes = DaysB >= DaysA\n",
        "print(SubsetRes)\n",
        "print(SupersetRes)"
      ],
      "execution_count": 47,
      "outputs": [
        {
          "output_type": "stream",
          "name": "stdout",
          "text": [
            "True\n",
            "True\n"
          ]
        }
      ]
    },
    {
      "cell_type": "code",
      "metadata": {
        "colab": {
          "base_uri": "https://localhost:8080/"
        },
        "id": "lkCg6Y0lmnzN",
        "outputId": "57ff7360-f4d5-45f8-dea3-626d787af1e8"
      },
      "source": [
        "#Lấy thời gian hiện tại\n",
        "import time\n",
        "ticks = time.time()\n",
        "print(\"Number of ticks since 12:00am, January 1, 1970:\", ticks)\n",
        "localtime = time.localtime(time.time())\n",
        "print(\"Local current time :\", localtime)\n"
      ],
      "execution_count": 48,
      "outputs": [
        {
          "output_type": "stream",
          "name": "stdout",
          "text": [
            "Number of ticks since 12:00am, January 1, 1970: 1636963129.053849\n",
            "Local current time : time.struct_time(tm_year=2021, tm_mon=11, tm_mday=15, tm_hour=7, tm_min=58, tm_sec=49, tm_wday=0, tm_yday=319, tm_isdst=0)\n"
          ]
        }
      ]
    },
    {
      "cell_type": "code",
      "metadata": {
        "colab": {
          "base_uri": "https://localhost:8080/"
        },
        "id": "NglZ8Cp_m28u",
        "outputId": "61ab395e-8b40-4338-972e-46e92fcbe92d"
      },
      "source": [
        "#Định dạng thời gian\n",
        "import time;\n",
        "localtime = time.asctime( time.localtime(time.time()) )\n",
        "print(\"Local current time :\", localtime)"
      ],
      "execution_count": 49,
      "outputs": [
        {
          "output_type": "stream",
          "name": "stdout",
          "text": [
            "Local current time : Mon Nov 15 07:59:20 2021\n"
          ]
        }
      ]
    },
    {
      "cell_type": "code",
      "metadata": {
        "colab": {
          "base_uri": "https://localhost:8080/"
        },
        "id": "Nu2zNPz_m9Y7",
        "outputId": "f02073c7-6b81-4fce-9fda-285a3e96a17a"
      },
      "source": [
        "#Lấy lịch 1 tháng\n",
        "import calendar\n",
        "cal = calendar.month(2021, 11)\n",
        "print(\"Here is the calendar:\")\n",
        "print(cal)"
      ],
      "execution_count": 52,
      "outputs": [
        {
          "output_type": "stream",
          "name": "stdout",
          "text": [
            "Here is the calendar:\n",
            "   November 2021\n",
            "Mo Tu We Th Fr Sa Su\n",
            " 1  2  3  4  5  6  7\n",
            " 8  9 10 11 12 13 14\n",
            "15 16 17 18 19 20 21\n",
            "22 23 24 25 26 27 28\n",
            "29 30\n",
            "\n"
          ]
        }
      ]
    }
  ]
}