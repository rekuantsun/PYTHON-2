{
  "nbformat": 4,
  "nbformat_minor": 0,
  "metadata": {
    "colab": {
      "name": "P2-11/11-2.ipynb",
      "provenance": [],
      "authorship_tag": "ABX9TyO5XXjJvMyPPmnh0tCPyKO4",
      "include_colab_link": true
    },
    "kernelspec": {
      "name": "python3",
      "display_name": "Python 3"
    },
    "language_info": {
      "name": "python"
    }
  },
  "cells": [
    {
      "cell_type": "markdown",
      "metadata": {
        "id": "view-in-github",
        "colab_type": "text"
      },
      "source": [
        "<a href=\"https://colab.research.google.com/github/rekuantsun/PYTHON2-COLAB/blob/main/P2_11_11_2.ipynb\" target=\"_parent\"><img src=\"https://colab.research.google.com/assets/colab-badge.svg\" alt=\"Open In Colab\"/></a>"
      ]
    },
    {
      "cell_type": "markdown",
      "metadata": {
        "id": "ODHVGaf07_F9"
      },
      "source": [
        "BÀI TẬP LẬP TRÌNH CHƯƠNG 2\n",
        "\n",
        "Bài 1: Lập trình nhập vào từ bàn phím 2 số nguyên và tính:\n",
        "\n",
        "1. Tổng của 2 số\n",
        "2. Tích của 2 số\n",
        "3. Hiệu của 2 số\n",
        "4. Phép chia lấy phần dư của 2 số\n",
        "5. Phép chia lấy phần nguyên của 2 số"
      ]
    },
    {
      "cell_type": "markdown",
      "metadata": {
        "id": "Rtkv_6NQ9FI8"
      },
      "source": [
        "Kết quả xuất ra màn hình"
      ]
    },
    {
      "cell_type": "code",
      "metadata": {
        "colab": {
          "base_uri": "https://localhost:8080/"
        },
        "id": "ReTkCaxh702c",
        "outputId": "eafb7dc8-91bc-45e6-aac5-218279b8a903"
      },
      "source": [
        "a = int(input('Nhập vào số nguyên a: '))\n",
        "b = int(input('Nhập vào số nguyên b: '))\n",
        "\n",
        "print(\"tổng của 2 số: \",a+b)\n",
        "\n",
        "print(\"tích của 2 số: \",a*b)\n",
        "\n",
        "print(\"hiệu của 2 số: \",a-b)\n",
        "\n",
        "print(\"phép chia lấy phần dư của 2 số: \",a%b)\n",
        "\n",
        "print(\"phép chia lấy phần nguyên của 2 số: \",a//b)"
      ],
      "execution_count": 1,
      "outputs": [
        {
          "output_type": "stream",
          "name": "stdout",
          "text": [
            "Nhập vào số nguyên a: 2\n",
            "Nhập vào số nguyên b: 3\n",
            "tổng của 2 số:  5\n",
            "tích của 2 số:  6\n",
            "hiệu của 2 số:  -1\n",
            "phép chia lấy phần dư của 2 số:  2\n",
            "phép chia lấy phần nguyên của 2 số:  0\n"
          ]
        }
      ]
    },
    {
      "cell_type": "markdown",
      "metadata": {
        "id": "wim0rwVv88ct"
      },
      "source": [
        "Bài 2: Lập trình nhập vào từ bàn phím 2 số thực và tính:\n",
        "\n",
        "1. Tổng của 2 số\n",
        "2. Tích của 2 số\n",
        "3. Hiệu của 2 số\n",
        "4. Thương của 2 số"
      ]
    },
    {
      "cell_type": "markdown",
      "metadata": {
        "id": "kj8wFHnY9Iur"
      },
      "source": [
        "Kết quả xuất ra màn hình"
      ]
    },
    {
      "cell_type": "code",
      "metadata": {
        "colab": {
          "base_uri": "https://localhost:8080/"
        },
        "id": "Hu6yXiOK9C0t",
        "outputId": "3134aa5d-028c-4232-fd3b-542066b7f16f"
      },
      "source": [
        "a = float(input('Nhập vào số nguyên a: '))\n",
        "b = float(input('Nhập vào số nguyên b: '))\n",
        "\n",
        "print(\"tổng của 2 số: \",a+b)\n",
        "\n",
        "print(\"tích của 2 số: \",a*b)\n",
        "\n",
        "print(\"hiệu của 2 số: \",a-b)\n",
        "\n",
        "print(\"thương của 2 số: \",a/b)"
      ],
      "execution_count": 3,
      "outputs": [
        {
          "output_type": "stream",
          "name": "stdout",
          "text": [
            "Nhập vào số nguyên a: 3.5\n",
            "Nhập vào số nguyên b: 4.6\n",
            "tổng của 2 số:  8.1\n",
            "tích của 2 số:  16.099999999999998\n",
            "hiệu của 2 số:  -1.0999999999999996\n",
            "thương của 2 số:  0.7608695652173914\n"
          ]
        }
      ]
    },
    {
      "cell_type": "markdown",
      "metadata": {
        "id": "s5alMJ3A9gvz"
      },
      "source": [
        "Bài 3: (Sử dụng các hàm toán học) Nhập một số từ bàn phím và tính:\n",
        "\n",
        "1. Trị tuyệt đối\n",
        "2. Lấy phần nguyên của số\n",
        "3. Chuyển đổi thành số thực\n",
        "4. (nhập thêm 1 số từ bàn phím) và tính lũy thừa $ x^y $\n",
        "5. Tính căn bậc hai"
      ]
    },
    {
      "cell_type": "markdown",
      "metadata": {
        "id": "xGFYzdRW-Lq9"
      },
      "source": [
        "Kết quả xuất ra màn hìnhhình"
      ]
    },
    {
      "cell_type": "code",
      "metadata": {
        "colab": {
          "base_uri": "https://localhost:8080/"
        },
        "id": "QW6Xibtt9pH1",
        "outputId": "cecd0e4f-1b69-43c3-9c3b-f0525a26ff40"
      },
      "source": [
        "import math\n",
        "x = float(input('Nhập vào số x: '))\n",
        "\n",
        "print('Trị tuyệt đối:',abs(x))\n",
        "\n",
        "print('Lấy phần nguyên của số:',round(x))\n",
        "\n",
        "print('Chuyển đổi thành số thực:',float(x))\n",
        "\n",
        "#Nhập thêm 1 số từ bàn phím \n",
        "\n",
        "y = float(input('Nhập vào số y: '))\n",
        "\n",
        "print('Lũy thừa x^y:',pow(x,y))\n",
        "\n",
        "print('Căn bậc hai:',math.sqrt(x))"
      ],
      "execution_count": 10,
      "outputs": [
        {
          "output_type": "stream",
          "name": "stdout",
          "text": [
            "Nhập vào số x: 4\n",
            "Trị tuyệt đối: 4.0\n",
            "Lấy phần nguyên của số: 4\n",
            "Chuyển đổi thành số thực: 4.0\n",
            "Nhập vào số y: 4\n",
            "Lũy thừa x^y: 256.0\n",
            "Căn bậc hai: 2.0\n"
          ]
        }
      ]
    },
    {
      "cell_type": "markdown",
      "metadata": {
        "id": "sy9nYw2eAZkM"
      },
      "source": [
        "\n",
        "Bài 4: Nhập 2 số từ bàn phím và thực hiện các phép so sánh sau giữa 2 số:\n",
        "\n",
        "1. $ \\geq $\n",
        "2. $ \\leq $\n",
        "3. $ &gt; $\n",
        "4. $ &lt; $\n",
        "5. $ \\neq $"
      ]
    },
    {
      "cell_type": "markdown",
      "metadata": {
        "id": "QfB877r3CCF7"
      },
      "source": [
        "Kết quả xuất ra màn hìnhhình"
      ]
    },
    {
      "cell_type": "code",
      "metadata": {
        "colab": {
          "base_uri": "https://localhost:8080/"
        },
        "id": "fqNdY-2IAiv2",
        "outputId": "4e816fb2-ff71-483c-9481-14c14ef77c4d"
      },
      "source": [
        "a = float(input('nhập vào số a: '))\n",
        "b = float(input('nhập vào số b: '))\n",
        "\n",
        "if (a >= b):\n",
        "  print('a >= b')\n",
        "\n",
        "if (a <= b):\n",
        "  print('a <= b')\n",
        "\n",
        "if (a > b):\n",
        "  print('a > b')\n",
        "\n",
        "if (a < b):\n",
        "  print('a < b')\n",
        "\n",
        "if (a != b):\n",
        "  print('a # b')"
      ],
      "execution_count": 11,
      "outputs": [
        {
          "output_type": "stream",
          "name": "stdout",
          "text": [
            "nhập vào số a: 1\n",
            "nhập vào số b: 2\n",
            "a <= b\n",
            "a < b\n",
            "a # b\n"
          ]
        }
      ]
    },
    {
      "cell_type": "markdown",
      "metadata": {
        "id": "d8_iSGuHCBYc"
      },
      "source": [
        "\n",
        "Bài 5: Nhập 1 chuỗi ký tự từ bàn phím:\n",
        "\n",
        "1. Chuyển thành chuỗi in hoa\n",
        "2. Chuyển thành chuỗi in thường"
      ]
    },
    {
      "cell_type": "markdown",
      "metadata": {
        "id": "V2xsOI1qCLjS"
      },
      "source": [
        "Kết quả xuất ra màn hìnhhình"
      ]
    },
    {
      "cell_type": "code",
      "metadata": {
        "colab": {
          "base_uri": "https://localhost:8080/"
        },
        "id": "SH2In6xUCNkZ",
        "outputId": "dda15f01-2b9d-4e33-f2c1-a7c8590ff466"
      },
      "source": [
        "isstr = 'Good Luck !'\n",
        "\n",
        "print(isstr.upper())\n",
        "\n",
        "print(isstr.lower())"
      ],
      "execution_count": 13,
      "outputs": [
        {
          "output_type": "stream",
          "name": "stdout",
          "text": [
            "GOOD LUCK !\n",
            "good luck !\n"
          ]
        }
      ]
    },
    {
      "cell_type": "markdown",
      "metadata": {
        "id": "E-IY2mV4C0Fr"
      },
      "source": [
        "Bài 6: Xuất ra màn hình 1 chuỗi ký từ nằm trên nhiều hàng (có thể là 1 bài thơ tùy ý bạn lựa chọn)"
      ]
    },
    {
      "cell_type": "markdown",
      "metadata": {
        "id": "h27U-wp4C2Br"
      },
      "source": [
        "Kết quả xuất ra màn hìnhhình"
      ]
    },
    {
      "cell_type": "code",
      "metadata": {
        "colab": {
          "base_uri": "https://localhost:8080/"
        },
        "id": "eWA4xpPbC4Tp",
        "outputId": "d79eb907-0d99-4364-b4e7-defa68ad3146"
      },
      "source": [
        "print('Nam quốc sơn hà Nam đế cư,\\nTiệt nhiên định phận tại thiên thư\\nNhư hà nghịch lỗ lai xâm phạm,\\nNhữ đẳng hành khan thủ bại hư.')"
      ],
      "execution_count": 14,
      "outputs": [
        {
          "output_type": "stream",
          "name": "stdout",
          "text": [
            "Nam quốc sơn hà Nam đế cư,\n",
            "Tiệt nhiên định phận tại thiên thư\n",
            "Như hà nghịch lỗ lai xâm phạm,\n",
            "Nhữ đẳng hành khan thủ bại hư.\n"
          ]
        }
      ]
    }
  ]
}