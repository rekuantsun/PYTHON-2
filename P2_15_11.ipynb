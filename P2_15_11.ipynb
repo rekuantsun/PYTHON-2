{
  "nbformat": 4,
  "nbformat_minor": 0,
  "metadata": {
    "colab": {
      "name": "P2-15-11.ipynb",
      "provenance": [],
      "authorship_tag": "ABX9TyMwLdl4yvduHfD2f4wYCllX",
      "include_colab_link": true
    },
    "kernelspec": {
      "name": "python3",
      "display_name": "Python 3"
    },
    "language_info": {
      "name": "python"
    }
  },
  "cells": [
    {
      "cell_type": "markdown",
      "metadata": {
        "id": "view-in-github",
        "colab_type": "text"
      },
      "source": [
        "<a href=\"https://colab.research.google.com/github/rekuantsun/PYTHON2-COLAB/blob/main/P2_15_11.ipynb\" target=\"_parent\"><img src=\"https://colab.research.google.com/assets/colab-badge.svg\" alt=\"Open In Colab\"/></a>"
      ]
    },
    {
      "cell_type": "code",
      "metadata": {
        "id": "OSdKzhMZOW0S"
      },
      "source": [
        "#Khởi tạo list\n",
        "list1=['physics','chemistry',1997,2000]\n",
        "list2=['le','quang','trung']\n",
        "list3=[2,9,11,2]\n",
        "list4=[1,2,3,4]"
      ],
      "execution_count": 41,
      "outputs": []
    },
    {
      "cell_type": "code",
      "metadata": {
        "colab": {
          "base_uri": "https://localhost:8080/"
        },
        "id": "f6wJiof-PefP",
        "outputId": "d08ab31b-29c7-415e-aeef-4b98e1d98084"
      },
      "source": [
        "#truy cập list\n",
        "print(list1[1:3])\n",
        "print(list2[1:-2])\n",
        "print(list3[:-1])"
      ],
      "execution_count": 18,
      "outputs": [
        {
          "output_type": "stream",
          "name": "stdout",
          "text": [
            "['chemistry', 1997]\n",
            "[]\n",
            "[2, 9, 11]\n"
          ]
        }
      ]
    },
    {
      "cell_type": "code",
      "metadata": {
        "colab": {
          "base_uri": "https://localhost:8080/"
        },
        "id": "2bs3KXzUQBst",
        "outputId": "46938bde-8c8a-4d03-f8a4-143dba0c33ac"
      },
      "source": [
        "#Thay đổi giá trị phần tử của list\n",
        "print('Value available at index 2: ')\n",
        "print(list1[2])\n",
        "list1[2] = 2002\n",
        "print('New value available at index 2: ')\n",
        "print(list1[2])"
      ],
      "execution_count": 19,
      "outputs": [
        {
          "output_type": "stream",
          "name": "stdout",
          "text": [
            "Value available at index 2: \n",
            "1997\n",
            "New value available at index 2: \n",
            "2002\n"
          ]
        }
      ]
    },
    {
      "cell_type": "code",
      "metadata": {
        "colab": {
          "base_uri": "https://localhost:8080/"
        },
        "id": "rtJqWBYbQwqV",
        "outputId": "37adb900-b6c2-469f-c1bc-c8810dc06a0f"
      },
      "source": [
        "#Xóa phần tử của list\n",
        "print(list1)\n",
        "del list1[2]\n",
        "print('after deleting value at index 2: ')\n",
        "print(list1)"
      ],
      "execution_count": 20,
      "outputs": [
        {
          "output_type": "stream",
          "name": "stdout",
          "text": [
            "['physics', 'chemistry', 2002, 2000]\n",
            "after deleting value at index 2: \n",
            "['physics', 'chemistry', 2000]\n"
          ]
        }
      ]
    },
    {
      "cell_type": "code",
      "metadata": {
        "colab": {
          "base_uri": "https://localhost:8080/"
        },
        "id": "E5pFIdMpQwwu",
        "outputId": "779b503d-7767-43ab-dc46-771a8478da21"
      },
      "source": [
        "#thao cơ bản tác với list\n",
        "\n",
        "#Lấy số phần tử của list\n",
        "print(len(list1))\n",
        "print(len(list2))\n",
        "print(len(list3))\n",
        "\n",
        "#Mở rộng list\n",
        "print(list1*4)\n",
        "\n",
        "#Kiểm tra có phần tử đã cho trong list hay không\n",
        "print(2000 in list1)\n",
        "\n",
        "#Duyệt từng phần tử của list\n",
        "for i in list2:\n",
        "  print(i,end=' ')"
      ],
      "execution_count": 21,
      "outputs": [
        {
          "output_type": "stream",
          "name": "stdout",
          "text": [
            "3\n",
            "3\n",
            "4\n",
            "['physics', 'chemistry', 2000, 'physics', 'chemistry', 2000, 'physics', 'chemistry', 2000, 'physics', 'chemistry', 2000]\n",
            "True\n",
            "le quang trung "
          ]
        }
      ]
    },
    {
      "cell_type": "code",
      "metadata": {
        "colab": {
          "base_uri": "https://localhost:8080/"
        },
        "id": "d7BGR-aCRaU-",
        "outputId": "b43c46e9-b29f-4283-c5a8-ecde81cadeaa"
      },
      "source": [
        "#indexing & slicing\n",
        "L=['RED','YELLOW','GREEN']\n",
        "print(L[1])\n",
        "print(L[-2])\n",
        "print(L[1:])"
      ],
      "execution_count": 22,
      "outputs": [
        {
          "output_type": "stream",
          "name": "stdout",
          "text": [
            "YELLOW\n",
            "YELLOW\n",
            "['YELLOW', 'GREEN']\n"
          ]
        }
      ]
    },
    {
      "cell_type": "code",
      "metadata": {
        "colab": {
          "base_uri": "https://localhost:8080/",
          "height": 231
        },
        "id": "-zbDJyTbTnOh",
        "outputId": "e159a445-63a1-45c3-82a4-f55b1d79e4a0"
      },
      "source": [
        "#Các hàm dựng sẵn của List\n",
        "\n",
        "#so sánh các phần tử của 2 list\n",
        "print(cmp(list3, list4))\n",
        "\n",
        "#trả về tổng số phần tử của list\n",
        "print(len(list2))\n",
        "\n",
        "#trả về giá trị lớn nhất\n",
        "print(max(list3))\n",
        "\n",
        "#trả về giá trị nhỏ nhất\n",
        "print(min(list3))\n",
        "\n",
        "#chuyển 1 tuple thành 1 list\n",
        "seq = ('Hello','worlds')\n",
        "print(list(seq))"
      ],
      "execution_count": 43,
      "outputs": [
        {
          "output_type": "error",
          "ename": "TypeError",
          "evalue": "ignored",
          "traceback": [
            "\u001b[0;31m---------------------------------------------------------------------------\u001b[0m",
            "\u001b[0;31mTypeError\u001b[0m                                 Traceback (most recent call last)",
            "\u001b[0;32m<ipython-input-43-3edee5282a7d>\u001b[0m in \u001b[0;36m<module>\u001b[0;34m()\u001b[0m\n\u001b[1;32m      2\u001b[0m \u001b[0;34m\u001b[0m\u001b[0m\n\u001b[1;32m      3\u001b[0m \u001b[0;31m#so sánh các phần tử của 2 list\u001b[0m\u001b[0;34m\u001b[0m\u001b[0;34m\u001b[0m\u001b[0;34m\u001b[0m\u001b[0m\n\u001b[0;32m----> 4\u001b[0;31m \u001b[0mprint\u001b[0m\u001b[0;34m(\u001b[0m\u001b[0mcmp\u001b[0m\u001b[0;34m(\u001b[0m\u001b[0mlist3\u001b[0m\u001b[0;34m,\u001b[0m \u001b[0mlist4\u001b[0m\u001b[0;34m)\u001b[0m\u001b[0;34m)\u001b[0m\u001b[0;34m\u001b[0m\u001b[0;34m\u001b[0m\u001b[0m\n\u001b[0m\u001b[1;32m      5\u001b[0m \u001b[0;34m\u001b[0m\u001b[0m\n\u001b[1;32m      6\u001b[0m \u001b[0;31m#trả về tổng số phần tử của list\u001b[0m\u001b[0;34m\u001b[0m\u001b[0;34m\u001b[0m\u001b[0;34m\u001b[0m\u001b[0m\n",
            "\u001b[0;31mTypeError\u001b[0m: 'list' object is not callable"
          ]
        }
      ]
    },
    {
      "cell_type": "code",
      "metadata": {
        "colab": {
          "base_uri": "https://localhost:8080/"
        },
        "id": "qyve_5qxVGNR",
        "outputId": "1ab04f12-b124-47c0-c421-3a3906f9ae7d"
      },
      "source": [
        "#Các phương thức dựng sẵn của list\n",
        "\n",
        "#thêm phần tử obj vào list\n",
        "obj = 3\n",
        "list1.append(obj)\n",
        "print('after change:',list1)\n",
        "\n",
        "#Đếm số lần obj xuất hiện trong list\n",
        "print(list1.count(2000))\n",
        "\n",
        "#thêm dãy các phần tử của list khác\n",
        "add = [11,22,21]\n",
        "list1.extend(add)\n",
        "print(list1)\n",
        "\n",
        "#Lấy vị trí xuất hiện đầu tiên\n",
        "list2.index('trung')\n",
        "\n",
        "#chèn obj vào vị trí chỉ định\n",
        "print(list2.insert(3,2))\n",
        "\n",
        "#xóa và trả về phần tử chỉ định\n",
        "print(list3.pop(0))\n",
        "\n",
        "#xóa phần tử khỏi list\n",
        "list2.remove('quang')\n",
        "print(list2)\n",
        "\n",
        "#đảo ngược list\n",
        "list4.reverse()\n",
        "print(list4)\n",
        "\n",
        "#Sắp xếp list\n",
        "list3.sort()\n",
        "print(list3)\n"
      ],
      "execution_count": 42,
      "outputs": [
        {
          "output_type": "stream",
          "name": "stdout",
          "text": [
            "after change: ['physics', 'chemistry', 1997, 2000, 3]\n",
            "1\n",
            "['physics', 'chemistry', 1997, 2000, 3, 11, 22, 21]\n",
            "None\n",
            "2\n",
            "['le', 'trung', 2]\n",
            "[4, 3, 2, 1]\n",
            "[2, 9, 11]\n"
          ]
        }
      ]
    }
  ]
}