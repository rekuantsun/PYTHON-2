{
  "nbformat": 4,
  "nbformat_minor": 0,
  "metadata": {
    "colab": {
      "name": "P2-11/11.ipynb",
      "provenance": [],
      "authorship_tag": "ABX9TyMTWC6cw6VqfBf/2TzvNMvc",
      "include_colab_link": true
    },
    "kernelspec": {
      "name": "python3",
      "display_name": "Python 3"
    },
    "language_info": {
      "name": "python"
    }
  },
  "cells": [
    {
      "cell_type": "markdown",
      "metadata": {
        "id": "view-in-github",
        "colab_type": "text"
      },
      "source": [
        "<a href=\"https://colab.research.google.com/github/rekuantsun/PYTHON2-COLAB/blob/main/P2_11_11.ipynb\" target=\"_parent\"><img src=\"https://colab.research.google.com/assets/colab-badge.svg\" alt=\"Open In Colab\"/></a>"
      ]
    },
    {
      "cell_type": "markdown",
      "metadata": {
        "id": "ZNDpdlArvHU4"
      },
      "source": [
        "Chương trình tính khoản vay"
      ]
    },
    {
      "cell_type": "code",
      "metadata": {
        "colab": {
          "base_uri": "https://localhost:8080/"
        },
        "id": "axjnV5KVux02",
        "outputId": "7156ec3d-6e87-4dcb-be40-a0b8188e171e"
      },
      "source": [
        "loanAmount = float(input('Nhập vào khoản vay: '))\n",
        "monthlyInterestRate = float(input('Nhập vào lãi suất hàng tháng: '))/100\n",
        "\n",
        "numberOfYears = int(input('Nhập vào số năm trả khoản vay: '))\n",
        "#số tiền hằng tháng phải trả\n",
        "monthlyPayment = (loanAmount * monthlyInterestRate) / (1 - 1/((1 + monthlyInterestRate)**(numberOfYears*12)))\n",
        "print('Số tiền cần trả hằng tháng là', monthlyPayment)"
      ],
      "execution_count": 11,
      "outputs": [
        {
          "output_type": "stream",
          "name": "stdout",
          "text": [
            "Nhập vào khoản vay: 25000000\n",
            "Nhập vào lãi suất hàng tháng: 1.5\n",
            "Nhập vào số năm trả khoản vay: 1\n",
            "Số tiền cần trả hằng tháng là 2291999.822655736\n"
          ]
        }
      ]
    },
    {
      "cell_type": "markdown",
      "metadata": {
        "id": "9C-sTMJO2ECW"
      },
      "source": [
        "Chương trình nhập tọa độ"
      ]
    },
    {
      "cell_type": "code",
      "metadata": {
        "colab": {
          "base_uri": "https://localhost:8080/"
        },
        "id": "WLf1Dt_c2j7e",
        "outputId": "cff54cbe-d8d8-4d35-8386-aff4f5a89d90"
      },
      "source": [
        "import math\n",
        "x1 = int(input('Nhập vào tọa độ x của A: '))\n",
        "y1 = int(input('Nhập vào tọa độ y của A: '))\n",
        "x2 = int(input('Nhập vào tọa độ x của B: '))\n",
        "y2 = int(input('Nhập vào tọa độ y của B: '))\n",
        "AB = (x2-x1)**2 + (y2-y1)**2\n",
        "print('Khoảng cách giữa A và B là',math.sqrt(AB) )"
      ],
      "execution_count": 9,
      "outputs": [
        {
          "output_type": "stream",
          "name": "stdout",
          "text": [
            "Nhập vào tọa độ x của A: 1\n",
            "Nhập vào tọa độ y của A: 2\n",
            "Nhập vào tọa độ x của B: 3\n",
            "Nhập vào tọa độ y của B: 4\n",
            "Khoảng cách giữa A và B là 2.8284271247461903\n"
          ]
        }
      ]
    }
  ]
}