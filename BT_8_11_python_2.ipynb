{
  "nbformat": 4,
  "nbformat_minor": 0,
  "metadata": {
    "colab": {
      "name": "BT-8/11-python-2.ipynb",
      "provenance": [],
      "authorship_tag": "ABX9TyMIKeYwh5G4XA62sTJe37lh",
      "include_colab_link": true
    },
    "kernelspec": {
      "name": "python3",
      "display_name": "Python 3"
    },
    "language_info": {
      "name": "python"
    }
  },
  "cells": [
    {
      "cell_type": "markdown",
      "metadata": {
        "id": "view-in-github",
        "colab_type": "text"
      },
      "source": [
        "<a href=\"https://colab.research.google.com/github/rekuantsun/PYTHON-2/blob/main/BT_8_11_python_2.ipynb\" target=\"_parent\"><img src=\"https://colab.research.google.com/assets/colab-badge.svg\" alt=\"Open In Colab\"/></a>"
      ]
    },
    {
      "cell_type": "markdown",
      "metadata": {
        "id": "2gWvAKThyhgs"
      },
      "source": [
        "**ĐÂY LÀ CHƯƠNG TRÌNH ĐẦU TIÊN**"
      ]
    },
    {
      "cell_type": "code",
      "metadata": {
        "colab": {
          "base_uri": "https://localhost:8080/"
        },
        "id": "2qVScWCtyMAW",
        "outputId": "d664361a-30d9-4acd-e035-6a94a1217c3e"
      },
      "source": [
        "print('Hello Github và Colab')"
      ],
      "execution_count": 1,
      "outputs": [
        {
          "output_type": "stream",
          "name": "stdout",
          "text": [
            "Hello Github và Colab\n"
          ]
        }
      ]
    }
  ]
}