{
  "nbformat": 4,
  "nbformat_minor": 0,
  "metadata": {
    "colab": {
      "name": "P2-9/11.ipynb",
      "provenance": [],
      "authorship_tag": "ABX9TyNBBzQuJ2zet5uC0wDbQpi6",
      "include_colab_link": true
    },
    "kernelspec": {
      "name": "python3",
      "display_name": "Python 3"
    },
    "language_info": {
      "name": "python"
    }
  },
  "cells": [
    {
      "cell_type": "markdown",
      "metadata": {
        "id": "view-in-github",
        "colab_type": "text"
      },
      "source": [
        "<a href=\"https://colab.research.google.com/github/rekuantsun/PYTHON-2/blob/main/P2_9_11.ipynb\" target=\"_parent\"><img src=\"https://colab.research.google.com/assets/colab-badge.svg\" alt=\"Open In Colab\"/></a>"
      ]
    },
    {
      "cell_type": "markdown",
      "metadata": {
        "id": "FxjVf5mTe3C2"
      },
      "source": [
        "**In ra màn hình thông điệp: \"Tuân thủ nguyên tắc 5K để phòng chống COVID\"**"
      ]
    },
    {
      "cell_type": "code",
      "metadata": {
        "colab": {
          "base_uri": "https://localhost:8080/"
        },
        "id": "NdDSzNj-etc5",
        "outputId": "e78b9d6a-bab7-4d8c-a1ab-8de90354506b"
      },
      "source": [
        "print(\"Tuân thủ nguyên tắc 5K để phòng chống COVID\")"
      ],
      "execution_count": 1,
      "outputs": [
        {
          "output_type": "stream",
          "name": "stdout",
          "text": [
            "Tuân thủ nguyên tắc 5K để phòng chống COVID\n"
          ]
        }
      ]
    }
  ]
}